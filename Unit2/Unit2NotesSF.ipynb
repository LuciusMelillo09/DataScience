{
  "nbformat": 4,
  "nbformat_minor": 0,
  "metadata": {
    "colab": {
      "provenance": [],
      "include_colab_link": true
    },
    "kernelspec": {
      "name": "python3",
      "display_name": "Python 3"
    },
    "language_info": {
      "name": "python"
    }
  },
  "cells": [
    {
      "cell_type": "markdown",
      "metadata": {
        "id": "view-in-github",
        "colab_type": "text"
      },
      "source": [
        "<a href=\"https://colab.research.google.com/github/LuciusMelillo09/DataScience/blob/main/Unit2/Unit2NotesSF.ipynb\" target=\"_parent\"><img src=\"https://colab.research.google.com/assets/colab-badge.svg\" alt=\"Open In Colab\"/></a>"
      ]
    },
    {
      "cell_type": "markdown",
      "source": [
        "The following are the installations and libraries neccesary to run the code in these notes. Some of the libraries in this course are so new that they aren't preinstalled on the Google servers that colab runs on. We'll need to reinstall them each day, or each time our runtime is deleted.\n",
        "\n",
        "Also, **READ THE COMMENTS IN GREEN** within the code blocks."
      ],
      "metadata": {
        "id": "96GxXJNTgjac"
      }
    },
    {
      "cell_type": "code",
      "source": [
        "!pip install preliz"
      ],
      "metadata": {
        "id": "3xvGOrVlmKf9",
        "outputId": "d3b2115c-361e-43ee-833b-af81d1ef88eb",
        "colab": {
          "base_uri": "https://localhost:8080/"
        }
      },
      "execution_count": 1,
      "outputs": [
        {
          "output_type": "stream",
          "name": "stdout",
          "text": [
            "Collecting preliz\n",
            "  Downloading preliz-0.20.0-py3-none-any.whl.metadata (6.2 kB)\n",
            "Collecting arviz_stats>=0.6.0 (from preliz)\n",
            "  Downloading arviz_stats-0.6.0-py3-none-any.whl.metadata (2.9 kB)\n",
            "Requirement already satisfied: matplotlib>=3.8 in /usr/local/lib/python3.12/dist-packages (from preliz) (3.10.0)\n",
            "Requirement already satisfied: numba>=0.59 in /usr/local/lib/python3.12/dist-packages (from preliz) (0.60.0)\n",
            "Requirement already satisfied: numpy>=2.0 in /usr/local/lib/python3.12/dist-packages (from preliz) (2.0.2)\n",
            "Requirement already satisfied: scipy>=1.12 in /usr/local/lib/python3.12/dist-packages (from preliz) (1.16.1)\n",
            "Requirement already satisfied: contourpy>=1.0.1 in /usr/local/lib/python3.12/dist-packages (from matplotlib>=3.8->preliz) (1.3.3)\n",
            "Requirement already satisfied: cycler>=0.10 in /usr/local/lib/python3.12/dist-packages (from matplotlib>=3.8->preliz) (0.12.1)\n",
            "Requirement already satisfied: fonttools>=4.22.0 in /usr/local/lib/python3.12/dist-packages (from matplotlib>=3.8->preliz) (4.59.1)\n",
            "Requirement already satisfied: kiwisolver>=1.3.1 in /usr/local/lib/python3.12/dist-packages (from matplotlib>=3.8->preliz) (1.4.9)\n",
            "Requirement already satisfied: packaging>=20.0 in /usr/local/lib/python3.12/dist-packages (from matplotlib>=3.8->preliz) (25.0)\n",
            "Requirement already satisfied: pillow>=8 in /usr/local/lib/python3.12/dist-packages (from matplotlib>=3.8->preliz) (11.3.0)\n",
            "Requirement already satisfied: pyparsing>=2.3.1 in /usr/local/lib/python3.12/dist-packages (from matplotlib>=3.8->preliz) (3.2.3)\n",
            "Requirement already satisfied: python-dateutil>=2.7 in /usr/local/lib/python3.12/dist-packages (from matplotlib>=3.8->preliz) (2.9.0.post0)\n",
            "Requirement already satisfied: llvmlite<0.44,>=0.43.0dev0 in /usr/local/lib/python3.12/dist-packages (from numba>=0.59->preliz) (0.43.0)\n",
            "Requirement already satisfied: six>=1.5 in /usr/local/lib/python3.12/dist-packages (from python-dateutil>=2.7->matplotlib>=3.8->preliz) (1.17.0)\n",
            "Downloading preliz-0.20.0-py3-none-any.whl (517 kB)\n",
            "\u001b[2K   \u001b[90m━━━━━━━━━━━━━━━━━━━━━━━━━━━━━━━━━━━━━━━━\u001b[0m \u001b[32m517.6/517.6 kB\u001b[0m \u001b[31m6.5 MB/s\u001b[0m eta \u001b[36m0:00:00\u001b[0m\n",
            "\u001b[?25hDownloading arviz_stats-0.6.0-py3-none-any.whl (108 kB)\n",
            "\u001b[2K   \u001b[90m━━━━━━━━━━━━━━━━━━━━━━━━━━━━━━━━━━━━━━━━\u001b[0m \u001b[32m108.8/108.8 kB\u001b[0m \u001b[31m10.4 MB/s\u001b[0m eta \u001b[36m0:00:00\u001b[0m\n",
            "\u001b[?25hInstalling collected packages: arviz_stats, preliz\n",
            "Successfully installed arviz_stats-0.6.0 preliz-0.20.0\n"
          ]
        }
      ]
    },
    {
      "cell_type": "code",
      "source": [
        "#We'll also need to re-import this library after we reinstall it\n",
        "\n",
        "import preliz as pz"
      ],
      "metadata": {
        "id": "SnxvjBKAdP2u"
      },
      "execution_count": 2,
      "outputs": []
    },
    {
      "cell_type": "code",
      "source": [
        "#These libraries don't need to be reinstalled each time, but they will need to be\n",
        "#re-imported each time\n",
        "\n",
        "import numpy as np\n",
        "import arviz as az\n",
        "import pymc as pm"
      ],
      "metadata": {
        "id": "u0x66ER4Jv3v"
      },
      "execution_count": 3,
      "outputs": []
    },
    {
      "cell_type": "markdown",
      "source": [
        "#**Unit 2: Probability with a Pinch of Python**\n",
        "\n",
        "We will spend this entire unit trying to answer a single question: What will Victor Wembanyama's true Free Throw percentage (FT%) be in the NBA?\n",
        "\n",
        "This will acomplish three things:\n",
        "\n",
        "1. Give you a foundation upon which to grow your inuition about probability and predictive models.\n",
        "2. Show you that any question about the real world can be made arbitrarily complicated.\n",
        "3. Help emphasize that there are always many ways to answer a question.\n",
        "\n",
        "Here's a word salad of things you'll learn in this unit: mean, mode, median, the three axioms of probability, Bayes' Rule/formula, prior, likelihood, posterior,  probability denisty function, uniform distribution, beta distribution, and binomial distribution.\n",
        "\n",
        "One of those, Bayes' rule, is worth mentioning now:\n",
        "\n",
        "$p(\\theta | y) = \\frac{p(y|\\theta)p(\\theta)}{p(y)}$\n",
        "\n",
        "All prediction engines--from ChatGPT, to how your phone can recoggnize your face, to models that predict stock prices and the weather--can be defined acoording to that formula\n",
        "\n",
        "Finally, we will engage with the most basic version of a pymc model, a code skeleton derived from Bayes' Rule, from from which we will summon many predictive monsters in the coming units.\n",
        "\n",
        "Let's dive in."
      ],
      "metadata": {
        "id": "AT3bZcwyzvtX"
      }
    },
    {
      "cell_type": "markdown",
      "source": [
        "###**Free Throws**\n",
        "\n",
        "Victor Wembanyama is a profesional basketball player for the San Antonio Spurs NBA team. In the summer of 2023, Wembanyama had yet to play a game in the NBA, although he had played in other professional leagues in France.\n",
        "\n",
        "There was a lot of hype around how good a player Wembanyama would be in the NBA, and many questions, one of which was: How good would Victor Wembanyama be at shooting the basketball?\n",
        "\n",
        "One metric to use is Free Throw Percentage (FT%). In basketball, players are awared an unobscured attempt to toss a basketball into a hoop (the main goal of the game) under certain condtions. All free throws are shot from the same spot, and players either make of miss the shot. Made free throws award the player's team 1 point, and missed free throws award 0 points."
      ],
      "metadata": {
        "id": "5CKhGrlr0u-N"
      }
    },
    {
      "cell_type": "markdown",
      "source": [
        "###**Assumptions: Modeling Free Throws Prior Information**\n",
        "Let's try to figure out what Victor Wembanyama's free throw percentage will be in the NBA."
      ],
      "metadata": {
        "id": "WtqZdU6IBn_j"
      }
    },
    {
      "cell_type": "markdown",
      "source": [
        "First, let's acknowledge that we **must** make an assumptions in order to make a guess. We'd *have* to make an assumption, even if only to assume that every possible free throw percentage is equally likely.\n",
        "\n",
        "**Task1**:\n",
        "\n",
        "So, what is Wembanyama's most likely free throw percentage, if all possible free throw percentages are equally likely and we otherwise know nothing about Wembanyama or free throws?"
      ],
      "metadata": {
        "id": "VogX7DqwCzaU"
      }
    },
    {
      "cell_type": "markdown",
      "source": [
        "**Answer1**:\n",
        "\n",
        "50%"
      ],
      "metadata": {
        "id": "4ZbdDfk9Etvf"
      }
    },
    {
      "cell_type": "markdown",
      "source": [
        "Below is a graph showing every possible free throw percentage on the x-axis. The y-axis goes from $0$ to $1$, and the blue line happens to be at $y=1$. The blue line is horizontal to represent that each x value, or proportion, is equally likely.\n",
        "\n",
        "Don't worry about understanding this graph or the code that generated it right now. It's here for when you reference the answer key of these notes later."
      ],
      "metadata": {
        "id": "KM37P8ZNGnsl"
      }
    },
    {
      "cell_type": "code",
      "source": [
        "pz.Uniform(0,1).plot_pdf() # plots the uniform distribution"
      ],
      "metadata": {
        "id": "gaCvjBeVGJEB",
        "outputId": "60add5cb-a336-49ab-919b-489dec1a6103",
        "colab": {
          "base_uri": "https://localhost:8080/",
          "height": 447
        }
      },
      "execution_count": 4,
      "outputs": [
        {
          "output_type": "execute_result",
          "data": {
            "text/plain": [
              "<Axes: >"
            ]
          },
          "metadata": {},
          "execution_count": 4
        },
        {
          "output_type": "display_data",
          "data": {
            "text/plain": [
              "<Figure size 640x480 with 1 Axes>"
            ],
            "image/png": "[encoded data removed]"
          },
          "metadata": {}
        }
      ]
    },
    {
      "cell_type": "markdown",
      "source": [
        "In order to predict free throw percentage, we had to make an asumption.\n",
        "\n",
        "It turns out that assumptions are required for more than predicting free throw percentage--**assumptions are required to predict/guess anything uncertain**.\n",
        "All of reality, and everything in it, is at least functionally uncertain (...probably...). Therefore, we need to make assumptions in order to make any logical statements about the state of the world we live in."
      ],
      "metadata": {
        "id": "GOmHOq4j9dNY"
      }
    },
    {
      "cell_type": "markdown",
      "source": [
        "Instead of worrying about the world and all reality, let's go back to predicting free throw percentage.\n",
        "\n",
        "Since we had to make an assumption to get an answer, let's see if we can do better than \"all possible answers are equally likely.\" What do we know about Wembanyma's free throw shooting?\n"
      ],
      "metadata": {
        "id": "oFHP-FVw_Opg"
      }
    },
    {
      "cell_type": "markdown",
      "source": [
        "Wembanyama played professionally in the Euroleague, and he made 24 out 32 free throws or $\\frac{24}{32}=0.75$ free throws. You may be tempted to say the expected proportion of made free throws is $0.75$--and it is--but only reporting that is throwing away information.\n",
        "For example, $\\frac{24}{32}=\\frac{3}{4}$, but Wembanyama didn't shoot just 4 free throws, he shot 32. We need a way to show that seeing the outcome of more free throws increases how confident we are in our estimate."
      ],
      "metadata": {
        "id": "5DpXCGoHguau"
      }
    },
    {
      "cell_type": "markdown",
      "source": [
        "**Task2**:\n",
        "\n",
        "In order to do that, we're gonna need to do some math. Not calculations (those are for your computer), rather, we'll redefine a free throw into its relevant, logical parts.\n",
        "\n",
        "What about a free throw are we recording? In other words, what about a free throw do we care about?"
      ],
      "metadata": {
        "id": "cP7riXtpcVa_"
      }
    },
    {
      "cell_type": "markdown",
      "source": [
        "**Answer2**:\n",
        "\n",
        "We're recording whether the player makes or misses the free throw."
      ],
      "metadata": {
        "id": "ArMROyo1p8Fe"
      }
    },
    {
      "cell_type": "markdown",
      "source": [
        "Before we go further, we need to define 'uncertainty' the way we defined free throws: by breaking uncertainty into its relevant, logical parts.\n",
        "\n",
        "Also, instead of the word 'uncertainty', we'll use the word 'probability'."
      ],
      "metadata": {
        "id": "dnTn1MtIJa1R"
      }
    },
    {
      "cell_type": "markdown",
      "source": [
        "**Task3**:\n",
        "\n",
        "Take a moment to think about what \"probability\" means.\n",
        "\n",
        "Ask at least one other person what they think it means.\n",
        "\n",
        "Write your definition, and at least one other person's definition. Pick which one you like best, or make a new definition that combines the two."
      ],
      "metadata": {
        "id": "TWF78TPBj66z"
      }
    },
    {
      "cell_type": "markdown",
      "source": [
        "**Answer**:\n",
        "\n",
        "I think probability is the %likelihood of a certain thing to happen."
      ],
      "metadata": {
        "id": "KWhyVFankQcO"
      }
    },
    {
      "cell_type": "markdown",
      "source": [
        "Now that we know what a probablity is, we can use those 24 out of 32 free throws we've \"seen\" Victor Wembanyama shoot.\n",
        "\n",
        "Each of those 32 free throw attempts had some probability of going through the hoop and generating a point. We'll call that probability $\\theta$ (pronouced \"theta\") since we don't know what it is, and because greek letters make me feel like I'm a real mathematician.\n",
        "\n",
        "Since Wembanyama made 24 made free throws, we have 24 $θ$s, and we'll call each of the 8( = 32 - 24) misses $1-θ$.\n",
        "\n",
        "As a reminder, those 32 free throw attempts are helping us form an assumption about the probability of Wembanyama's free throw percentage being any particular number. Before, we said it was euqally likely to be any possible free throw percentage.\n",
        "\n",
        "One more notational thing: let $p()$ read \"the probability of ___\". Thus, $p(\\theta)$ reads \"the probability of the true probability of Victor Wembanyama making a free throw\".\n",
        "\n",
        "Returing to the \"equally likely\" assumption, we basically said $p(θ) ∼ Uniform(0,1)$ or $p(θ) \\sim U(0,1)$. This reads \"the true probability of Victor Wembanyama making a free throw is uniformly distributed within the interval 0 to 1\".\n"
      ],
      "metadata": {
        "id": "k-1iSEhvkSeH"
      }
    },
    {
      "cell_type": "markdown",
      "source": [
        "**Task4**:\n",
        "\n",
        "Guess how we could write the distribution of the true probability of Wembanyama making a free throw, but now with the prior knowledge that he made 24 out of 32 free throws in Euroleage play.\n",
        "\n",
        "In other words, combine \"24 out of 32\", $\\theta$ (the probability of making a free throw), and $1-\\theta$ (the proability of missing a free throw) into a single mathematical formula."
      ],
      "metadata": {
        "id": "Wmwzm6kNnv4g"
      }
    },
    {
      "cell_type": "markdown",
      "source": [
        "**Answer4**:\n",
        "\n",
        "Maybe multiply the 24 θ with the 8 1−θ\n"
      ],
      "metadata": {
        "id": "VLEMkVy70Wg2"
      }
    },
    {
      "cell_type": "code",
      "source": [
        "#plotting the beta distribution with shape parameter 24 and scale parameter 8\n",
        "pz.Beta(alpha=24,beta=8).plot_pdf()"
      ],
      "metadata": {
        "id": "nUP2gYoqSC6M",
        "outputId": "a2adecd6-7ee6-4896-f799-f36fcef539d8",
        "colab": {
          "base_uri": "https://localhost:8080/",
          "height": 447
        }
      },
      "execution_count": 5,
      "outputs": [
        {
          "output_type": "execute_result",
          "data": {
            "text/plain": [
              "<Axes: >"
            ]
          },
          "metadata": {},
          "execution_count": 5
        },
        {
          "output_type": "display_data",
          "data": {
            "text/plain": [
              "<Figure size 640x480 with 1 Axes>"
            ],
            "image/png": "[encoded data removed]"
          },
          "metadata": {}
        }
      ]
    },
    {
      "cell_type": "markdown",
      "source": [
        "With that, we now have two formal ways making an assumption about Victor's free throw percentage:\n",
        "\n",
        "- $p(θ) ∼ Uniform(0,1)$, which means that we think all possible free throw percentages are equally likely\n",
        "- $p(θ) = Beta(α=24, β=8)$, which means we think that Wembanyama's free throw shooting in Europe is almost exactly indicative of how he'll shoot free throws in the NBA.\n"
      ],
      "metadata": {
        "id": "8CjEP7mslYTp"
      }
    },
    {
      "cell_type": "markdown",
      "source": [
        "**Task5**:\n",
        "\n",
        "Which prior distribution is better, the $Beta(α=24, β=8)$ distribution, or the $U(0,1)$ distribution.\n",
        "\n",
        "Why?"
      ],
      "metadata": {
        "id": "zo8ORkse74Zq"
      }
    },
    {
      "cell_type": "markdown",
      "source": [
        "**Answer5**:\n",
        "\n",
        "The Beta distribution is better, because it draws on past statistics of him doing the exact same thing, shooting free throws"
      ],
      "metadata": {
        "id": "nNNmtP_x83uW"
      }
    },
    {
      "cell_type": "markdown",
      "source": [
        "###**Predictions with only prior knowledge**\n",
        "\n",
        "Recall that we wanted to predict Victor Wembanyama's free throw percentage. With a prior selected, we can now make a formal prediction.\n",
        "\n",
        "But we still have arbitrary decisions to make. There are technically infinte guesses, or predictions, we could make based on our prior. Any percentage under the blue curve above of graph above is fine, for example.\n",
        "\n",
        "That said, we usually want to report our \"best guess\". Best is always arbitrary, but with our mathematical formula of the beta distribution in had, we can at least justify why a guess might be \"best\".\n",
        "\n",
        "For example, we now have a precise way of saying what the expected/average free throw percentage is, and the the most likely/probable free throw percentage. Also, we'll report \"middle\" percentage, AKA the median."
      ],
      "metadata": {
        "id": "fdGT5G8iueOQ"
      }
    },
    {
      "cell_type": "markdown",
      "source": [
        "**Task6**:\n",
        "\n",
        "Find Wembanyama's expected FT%, middle FT%, and most likely FT% based only on the free throws he shoot in Euroleage"
      ],
      "metadata": {
        "id": "E2bTiKE_OFMd"
      }
    },
    {
      "cell_type": "code",
      "source": [
        "#ANSWER6\n",
        "\n",
        "FT_prior = pz.Beta(alpha=24,beta=8)\n",
        "FT_prior.mean(), FT_prior.median(), FT_prior.mode()\n"
      ],
      "metadata": {
        "id": "P8UqVnmTZHoE",
        "outputId": "abaf123c-388a-479c-ba70-5f3f5486fa80",
        "colab": {
          "base_uri": "https://localhost:8080/"
        }
      },
      "execution_count": 6,
      "outputs": [
        {
          "output_type": "execute_result",
          "data": {
            "text/plain": [
              "(np.float64(0.75), 0.7552582743060792, np.float64(0.7666666666666667))"
            ]
          },
          "metadata": {},
          "execution_count": 6
        }
      ]
    },
    {
      "cell_type": "markdown",
      "source": [
        "**Answer6**:\n",
        "\n",
        "*or write some of your answer here*"
      ],
      "metadata": {
        "id": "4YL0Wq1Rf5PR"
      }
    },
    {
      "cell_type": "markdown",
      "source": [
        "###**Acknowledging our Observations: Modeling Free Throws from the NBA**\n",
        "\n",
        "In this section, we will learn a rule for how to change our predictions as we gain more information, or data.\n",
        "\n",
        "For now, that new information will be \"seeing\" Victor Wembanyama shoot free throws in an NBA game."
      ],
      "metadata": {
        "id": "iYtAujjufTWQ"
      }
    },
    {
      "cell_type": "markdown",
      "source": [
        "Right now, we have a prior, $p(θ) = Beta(α=24, β=8)=\\frac{Γ(α+β)}{Γ(α)Γ(β)}θ^{α-1}(1-θ)^{β-1}=\\frac{31!}{23!7!}θ^{23}(1-θ)^{7}$\n",
        "\n",
        "This represents that we don't know Wembanyama's true free throw percentage, but we do know he made 24 out of 32 free throws in Euroleague basketball. Specifically, $θ$ represents his true chance of making a free throw.\n",
        "\n"
      ],
      "metadata": {
        "id": "x9NXhsdmydFA"
      }
    },
    {
      "cell_type": "markdown",
      "source": [
        "Put that aside for now. Consider this information, or these data: we observe Wembanyama make 7 out 9 free throws in his first 2 NBA games. Let's consider the chance, or likelihood, of this happening.\n",
        "\n",
        "Made free throws are represented by $θ$, and misses by $1-θ$. Because free throws are independent, we can again represent a bunch of makes and misses through multiplication."
      ],
      "metadata": {
        "id": "KktmhWuR24ge"
      }
    },
    {
      "cell_type": "markdown",
      "source": [
        "**Task7**:\n",
        "\n",
        "Write down an expression for the likelihood of seeing these data (7 made free throws out of 9) given we knowthe true free throw rate $θ$."
      ],
      "metadata": {
        "id": "OnIxRnfAPKaS"
      }
    },
    {
      "cell_type": "markdown",
      "source": [
        "**Answer7**:\n",
        "\n",
        "FT_NBA = pz.Beta(alpha=7,beta=2)"
      ],
      "metadata": {
        "id": "cncMHZEUybgR"
      }
    },
    {
      "cell_type": "markdown",
      "source": [
        "We've seen preliz's function for our prior in this scenario, $Beta(α,β)$. Preliz also has a nice function for the binomial distribution, shown below:"
      ],
      "metadata": {
        "id": "oiFNJqm9zOb0"
      }
    },
    {
      "cell_type": "code",
      "source": [
        "pz.Binomial(n = 9, p = 7/9 ).plot_pdf()"
      ],
      "metadata": {
        "id": "BemOLoPVzw6H",
        "colab": {
          "base_uri": "https://localhost:8080/",
          "height": 447
        },
        "outputId": "5ea9fdca-e02a-4e30-9555-2a7f7070a546"
      },
      "execution_count": null,
      "outputs": [
        {
          "output_type": "execute_result",
          "data": {
            "text/plain": [
              "<Axes: >"
            ]
          },
          "metadata": {},
          "execution_count": 11
        },
        {
          "output_type": "display_data",
          "data": {
            "text/plain": [
              "<Figure size 640x480 with 1 Axes>"
            ],
            "image/png": "[encoded data removed]"
          },
          "metadata": {}
        }
      ]
    },
    {
      "cell_type": "markdown",
      "source": [
        "###**Updating our Predictions/Beliefs**"
      ],
      "metadata": {
        "id": "DekloZWUwuwY"
      }
    },
    {
      "cell_type": "markdown",
      "source": [
        "Let's review what we've learned.:\n",
        "\n",
        "- We have a formula for our **prior** knowledge about Wembanayma's free throw shooting from his play in Euroleague, $p(θ) = Beta(α=24, β=8)=\\frac{31!}{23!7!}θ^{23}(1-θ)^{7}$. (This prior is our way to guess before we've seen any anything about the NBA.)\n",
        "- We have a formula for the **likelihood** that Wembanyama made 7 out of 9 free throws in his first two NBA games, $p(y|θ)=Binomial(n=9,k=7,θ)=\\frac{9!}{(9-7)!7!}θ^{7}(1-θ)^{2}$\n",
        "\n",
        "and also what we want:\n",
        "\n",
        "- A prediction of Wembanyama's true free throw percentage in the NBA, $θ$, given that we've seen him make 7 out of 9 free throws in the NBA,  $p(θ|y)$. This prediction is **post**, or after, seeing data and making assumptions.\n",
        "\n"
      ],
      "metadata": {
        "id": "RHlnf8T15wq5"
      }
    },
    {
      "cell_type": "markdown",
      "source": [
        "Thus far, when we have two probablities that happen in conjunction, we have multiplied them. That trend will continue here.\n",
        "\n",
        "**Task8**:\n",
        "\n",
        "Write a formula for knowing both the likelihood and the prior in this free throw example.\n",
        "\n",
        "Hint: Multipy together the two formulas we've found.\n"
      ],
      "metadata": {
        "id": "L0l1eISl4ZGy"
      }
    },
    {
      "cell_type": "markdown",
      "source": [
        "**Answer8**:\n",
        "\n",
        "*write your answer here*"
      ],
      "metadata": {
        "id": "IifjGkMiJzvy"
      }
    },
    {
      "cell_type": "markdown",
      "source": [],
      "metadata": {
        "id": "pIHLIqOT5OFn"
      }
    },
    {
      "cell_type": "markdown",
      "source": [
        "**Task9**:\n",
        "\n",
        "Now that we have a formula, let's use our computer to answer our question: \"What do we expect Victor Wembanyama's true free throw percentage to be?\"\n",
        "\n",
        "*Hint*: Is there code on elsewhere on this notebook for the Beta distribution?"
      ],
      "metadata": {
        "id": "WM_uGSSfDHYn"
      }
    },
    {
      "cell_type": "code",
      "source": [
        "#ANSWER9\n",
        "#prior information\n",
        "alpha_old = 24\n",
        "beta_old = 8\n",
        "\n",
        "#likelihood info, or data from the NBA\n",
        "k = 7 #makes\n",
        "n = 9 #total attempts\n",
        "\n",
        "#'analytic' here means that we found the solution directly using a closed form\n",
        "# mathematical formula\n",
        "analytic_FT = pz.Beta(alpha = alpha_old + k,beta = beta_old + n - k )\n",
        "\n",
        "#Wembanyama' expected FT%. Mode and median are also acceptable, but note that I\n",
        "#said 'expect', which techinally calls for the mean.\n",
        "analytic_FT.mean()"
      ],
      "metadata": {
        "id": "PtK-eJfNEUbu"
      },
      "execution_count": null,
      "outputs": []
    },
    {
      "cell_type": "markdown",
      "source": [
        "While that constitutes our best guess, the 'real' answer is the whole distribution, shown below"
      ],
      "metadata": {
        "id": "-emd9jJKHJK_"
      }
    },
    {
      "cell_type": "code",
      "source": [
        "#this will only run based on code from the answer key, and is mainly here to\n",
        "#give you a hint at how to answer the pervious task\n",
        "analytic_FT.plot_pdf()"
      ],
      "metadata": {
        "id": "e5KLjk3KHWS1",
        "colab": {
          "base_uri": "https://localhost:8080/",
          "height": 447
        },
        "outputId": "04fe29ff-0921-411f-ebae-c7b15fae587c"
      },
      "execution_count": null,
      "outputs": [
        {
          "output_type": "execute_result",
          "data": {
            "text/plain": [
              "<Axes: >"
            ]
          },
          "metadata": {},
          "execution_count": 7
        },
        {
          "output_type": "display_data",
          "data": {
            "text/plain": [
              "<Figure size 640x480 with 1 Axes>"
            ],
            "image/png": "[encoded data removed]"
          },
          "metadata": {}
        }
      ]
    },
    {
      "cell_type": "markdown",
      "source": [
        "Let's linger on my last statement:\n",
        "\n",
        "\"the 'real' answer is the whole distribution\"\n",
        "\n",
        "**Task10**:\n",
        "Why is the whole distribution better than a single point estimate, a single guess?"
      ],
      "metadata": {
        "id": "P9dmv0GVmdCU"
      }
    },
    {
      "cell_type": "markdown",
      "source": [
        "**Answer10**:\n",
        "\n",
        "*write your answer here*"
      ],
      "metadata": {
        "id": "ekpQzswf3IpN"
      }
    },
    {
      "cell_type": "markdown",
      "source": [
        "Now that we have some inuition and skills on how to guess Wembanyama's FT%, a natural extension is to wonder if we can predict the results of his actual free throws."
      ],
      "metadata": {
        "id": "Z4My6KxN78oM"
      }
    },
    {
      "cell_type": "markdown",
      "source": [
        "###**Probabalistic Programming: Predicting Free Throws**\n",
        "\n",
        "This is where things get interesting.\n",
        "\n",
        "There is an analytic (formulaic and exact) solution to predicitng Wembanyams's future free throws, but we won't use it here for two reasons.\n",
        "- It involves calculating this integral: $ \\int_{}^{} p(\\tilde{y}|θ)p(θ|y) \\,dθ  $ (where $\\tilde{y}$ is predicted data, or, in this case, predicted free throws).\n",
        "- The approximate, or sampling, method we'll use instead will work even in situations where that integral is intractable.\n",
        "\n",
        "\n",
        " To avoid ever having to calculate that integral, we will need to make use of a powerful technique known as Markov Chain Monte Carlo (MCMC) sampling. Eventually we will cover a version of MCMC in more depth, but even then, we will not cover precisely what's happening underneath the hood with pymc.\n",
        "\n",
        " pymc is the library of functions we'll use to build our model, and it will underpin every model we'll build going forward. Imagine its like a car. Cars have all sorts of features now a days, from power steering and automatic transmission, to blind spot warnings and lane assist. They can't quite drive themselves yet, but even if they could, there's nothing stopping us from manually driving one off a cliff, warning lights be damned.\n",
        "\n",
        " We will learn how to avoid using our model to drive ourselves off a cliff, and we will also learn how to make use of its fancy bells and whistles. Hopefully, this will be just as empowering as getting behind the wheel. Like a car has a complicated engine powering its capabilites, a pymc model has a complicated MCMC engine powering its capablities, and you don't really need to know how either work to take it for a drive.\n",
        "\n",
        "**But remember**: Things will break.\n",
        "This course will teach you how to drive, not how to be a mechanic. Often there are warning lights to help with this, but sometimes not--and there's no warning light in the world that can protect you from yourself."
      ],
      "metadata": {
        "id": "qKnHdVkAc9pV"
      }
    },
    {
      "cell_type": "markdown",
      "source": [
        "Let's return to coding.\n",
        "\n",
        "Before we make any predictions about future FTs, we need to redo our entire anaylsis with a library called pymc."
      ],
      "metadata": {
        "id": "FbPQYM29-m5n"
      }
    },
    {
      "cell_type": "code",
      "source": [
        "#loading pymc, the fancy library of functions that allows us to only focus on θ\n",
        "#we already did this at the beginning of the notebook, but I put it here again\n",
        "#to emphasize that this is the first time we're using it\n",
        "import pymc as pm"
      ],
      "metadata": {
        "id": "xJqOeBZiRiw_"
      },
      "execution_count": null,
      "outputs": []
    },
    {
      "cell_type": "code",
      "source": [
        "#the makes we've seen from the NBA\n",
        "FT_makes = np.repeat(1, 7)\n",
        "\n",
        "#the misses we've seen from the NBA\n",
        "FT_misses = np.repeat(0, 2)\n",
        "\n",
        "#combine makes and misses into one array\n",
        "FT_data = np.concatenate( [FT_makes,FT_misses] )\n",
        "\n",
        "#the last three lines can be combined into one line\n",
        "#FT_data = np.repeat([1,0], repeats = [7,2])\n",
        "#Which method of making FT_data is easier to understand?"
      ],
      "metadata": {
        "id": "zGQQbmnERlOq"
      },
      "execution_count": null,
      "outputs": []
    },
    {
      "cell_type": "code",
      "source": [
        "#Nearly every single model we will build in this class will have\n",
        "#the below outline as its foundation. Get hyped.\n",
        "\n",
        "with pm.Model() as wmby_FT_model:\n",
        "  #we define our prior with the makes and misses from Euroleague\n",
        "  #notice how we make alpha and beta floats by using '.'\n",
        "  θ = pm.Beta('θ' , alpha = 24. , beta = 8.)\n",
        "\n",
        "  #we define our likelihood, which is how we process the free throws\n",
        "  #we've seen Wemby make in the NBA\n",
        "  #Think of Bernoulli as a stand in for the binomial distribution\n",
        "  #This allow us to predict one free throw at a time later, among other things\n",
        "  y = pm.Bernoulli('y', p = θ, observed = FT_data)\n",
        "\n",
        "  #this part is new. We sample from our posterior because we don't actually\n",
        "  #have a formula for it.\n",
        "  idata_FT = pm.sample()\n"
      ],
      "metadata": {
        "id": "ugzE_T6NdJWw"
      },
      "execution_count": null,
      "outputs": []
    },
    {
      "cell_type": "markdown",
      "source": [
        "The last line of code in the previous code block draws 1000 $θ$s for us to play with. What does that mean? Let's start with a picture:\n",
        "\n",
        "\n"
      ],
      "metadata": {
        "id": "nrVoeHRSAz23"
      }
    },
    {
      "cell_type": "code",
      "source": [
        "#arviz is a companion data visualization library for pymc. Again, we already\n",
        "#imported this library, but its repeated here for emphasis.\n",
        "import arviz as az"
      ],
      "metadata": {
        "id": "s6mjzyhYHlN0"
      },
      "execution_count": null,
      "outputs": []
    },
    {
      "cell_type": "code",
      "source": [
        "#vizualize the 1000 samples from the pymc model of the posterior\n",
        "az.plot_posterior(idata_FT)"
      ],
      "metadata": {
        "id": "2Itci9u-H2aX"
      },
      "execution_count": null,
      "outputs": []
    },
    {
      "cell_type": "markdown",
      "source": [
        "Let's compare this to the analytic solution."
      ],
      "metadata": {
        "id": "PQPkA3VVTLrX"
      }
    },
    {
      "cell_type": "code",
      "source": [
        "#probability density function (pdf) of the analytic solution\n",
        "analytic_FT = pz.Beta(alpha = 31, beta = 9)\n",
        "analytic_FT.plot_pdf()"
      ],
      "metadata": {
        "id": "bLwyyW4LbW5q"
      },
      "execution_count": null,
      "outputs": []
    },
    {
      "cell_type": "markdown",
      "source": [
        "**Task11**:\n",
        "\n",
        "List similarities and differences between the pymc model's samples, and the analytic model's pdf. Discuss these with at least one other person"
      ],
      "metadata": {
        "id": "SV4M4hTl-ql2"
      }
    },
    {
      "cell_type": "markdown",
      "source": [
        "**Answer11**:\n",
        "\n",
        "*write your answer here*\n"
      ],
      "metadata": {
        "id": "doKqcBLya7CV"
      }
    },
    {
      "cell_type": "markdown",
      "source": [
        "To see why this is the case, let's draw 1000 sample FT%s from the analytic model, just like we did from the pymc model."
      ],
      "metadata": {
        "id": "2r8ScQS6_t3t"
      }
    },
    {
      "cell_type": "code",
      "source": [
        "#vizualize 1000 samples from the analytic model.\n",
        "#Recall that analytic_FT = pz.Beta(alpha = alpha_old + 7,beta = beta_old + n - k )\n",
        "#This is beta dist. with the total number of makes and total misses as parameters\n",
        "az.plot_posterior( {'θ' : analytic_FT.rvs(1000)} )"
      ],
      "metadata": {
        "id": "lqZEHsqHTQWA"
      },
      "execution_count": null,
      "outputs": []
    },
    {
      "cell_type": "markdown",
      "source": [
        "**Task12**:\n",
        "\n",
        "List similarities and differences between the pymc model's samples, and the analytic model's samples. Discuss these with at least one other person"
      ],
      "metadata": {
        "id": "e3cKD9AA_H5h"
      }
    },
    {
      "cell_type": "markdown",
      "source": [
        "**Answer12**:\n",
        "\n",
        "*write your answer here*"
      ],
      "metadata": {
        "id": "6n8l25N6d7Sf"
      }
    },
    {
      "cell_type": "markdown",
      "source": [
        "Now that we have some idea what our fancy pymc model gives us, let's use our it to make predictions."
      ],
      "metadata": {
        "id": "nq2Ut86e_31a"
      }
    },
    {
      "cell_type": "code",
      "source": [
        "#The below function needs to know two things in order to make predictions:\n",
        "#-the samples from the posterior; these are stored in idata_FT\n",
        "#-the model that generated those samples, which we called wmby_FT_model\n",
        "# The last input tells the function to store those predictions in idata_FT\n",
        "\n",
        "pm.sample_posterior_predictive(idata_FT, model=wmby_FT_model, extend_inferencedata=True)"
      ],
      "metadata": {
        "id": "V6_TANgwAhDJ"
      },
      "execution_count": null,
      "outputs": []
    },
    {
      "cell_type": "markdown",
      "source": [
        "**Task13**:\n",
        "\n",
        "Does our model predict that Wembanyama will make his next free throw?\n",
        "\n",
        "Use the output above.\n",
        "\n",
        "Hints: We need the posterior predictive distribution. Also, what symbol/name did we give our data, our likelihood when we created wmby_FT_model?"
      ],
      "metadata": {
        "id": "4Ow112GfT0rP"
      }
    },
    {
      "cell_type": "markdown",
      "source": [
        "###**Predicting  Wemby FT in 2024/2025**\n",
        "\n",
        "Victor Wembanyama played more than 2 games in the NBA last year--and more relevantly to us, he took more than 9 free throws. In fact, he made 292 out of 367 free throws in the 2023/2024 NBA season.\n",
        "\n",
        "\n",
        "As of this writing, the 2024/2025 NBA season has yet to occur, but we can use those 367 FT attempts to generate predictions on his next 367 FT attempts"
      ],
      "metadata": {
        "id": "AJk4qWRiHh3m"
      }
    },
    {
      "cell_type": "code",
      "source": [
        "#Wemby's FTs in the 2023/2024 season, makes then misses\n",
        "FT_data_2324 = np.repeat([1,0], repeats = [292,75])"
      ],
      "metadata": {
        "id": "NXKw7wsCZ1U8"
      },
      "execution_count": null,
      "outputs": []
    },
    {
      "cell_type": "code",
      "source": [
        "with pm.Model() as wmby_FT_2324_model:\n",
        "  #same prior from before based on Euroleague data\n",
        "  θ = pm.Beta('θ' , alpha = 24. , beta = 8.)\n",
        "\n",
        "  #same likelihood, with our stand in for the binomial distribution\n",
        "  #but with the updated data\n",
        "  y = pm.Bernoulli('y', p = θ, observed = FT_data_2324)\n",
        "\n",
        "  #sample from the posterior, 2000 for a more prcise picture later\n",
        "  idata_FT_2324 = pm.sample(2000)"
      ],
      "metadata": {
        "id": "0Fr5to-kaCc3"
      },
      "execution_count": null,
      "outputs": []
    },
    {
      "cell_type": "code",
      "source": [
        "#vizualize the 2000 samples from the pymc model of the posterior\n",
        "az.plot_posterior(idata_FT_2324)"
      ],
      "metadata": {
        "id": "moaOq_GQa0Ch"
      },
      "execution_count": null,
      "outputs": []
    },
    {
      "cell_type": "code",
      "source": [
        "#Generate the actual predictions for Wemby's next 2000 FTs\n",
        "pm.sample_posterior_predictive(idata_FT_2324, model=wmby_FT_2324_model, extend_inferencedata=True)"
      ],
      "metadata": {
        "id": "Au8bNiq_biSm"
      },
      "execution_count": null,
      "outputs": []
    },
    {
      "cell_type": "code",
      "source": [
        "#stack the two MCMC chains together\n",
        "stacked_FT_2324 = az.extract(idata_FT_2324, group=\"posterior_predictive\")"
      ],
      "metadata": {
        "id": "xK8OKoRrelzJ"
      },
      "execution_count": null,
      "outputs": []
    },
    {
      "cell_type": "code",
      "source": [
        "#idata_FT_2324.posterior_predictive.y.to_series().values\n",
        "stacked_FT_2324.sel(sample=0).sel(draw=0).y.to_series().values"
      ],
      "metadata": {
        "id": "l8fZRrofbtJp"
      },
      "execution_count": null,
      "outputs": []
    },
    {
      "cell_type": "markdown",
      "source": [
        "And there you have it, predictions for Wembanyama's next 367 free throws. We'll check this at the end of the NBA regular season this year, and see how our model did."
      ],
      "metadata": {
        "id": "2SSZgVmMhvz2"
      }
    },
    {
      "cell_type": "markdown",
      "source": [
        "**Task14**:\n",
        "\n",
        "What could we do to improve our model?"
      ],
      "metadata": {
        "id": "Cz3HnJYliGk8"
      }
    },
    {
      "cell_type": "markdown",
      "source": [
        "**Answer14**:\n",
        "\n",
        "*write your answer here*"
      ],
      "metadata": {
        "id": "nsqmY5nujNCN"
      }
    },
    {
      "cell_type": "markdown",
      "source": [
        "###**Summary**\n",
        "\n",
        "In this unit, we answered the question: What will Victor Wembanyama's true Free Throw percentage (FT%) be in the NBA?\n",
        "\n",
        "We did this by considering prior knowledge we had about Wembanyama's FT shooting--we landed on his previous FT shooting in Euroleague, although we proposed other valid assumptions.\n",
        "\n",
        "In writing down our assumptions, we found it necessary to think mathematically about probability and the physical act of FT shooting. This led us to probability density functions (pdf) as a good summary of our knowledge.\n",
        "\n",
        "We noticed that we could alter our assumption by processing new information with a likelihood, another pdf.\n",
        "\n",
        "We then combined our new information with our prior knowledge by multipying our pdfs. This gave us a way to make a guess post new information, and we called this a posterior.\n",
        "\n",
        "And this posterior *is* our answer. It can give us different precise estimates, like the mean, median, and mode, and gives us a probability for all the values Wembanyama's truw FT% could be.\n",
        "\n",
        "But we didn't stop there! Our analytic solution happened to work out well mathematically, but we want a tool that works nearly everytime.\n",
        "\n",
        "So, we took out a pymc model for a test drive. We played a bit with its many metaphorical knobs and buttons to get predictions for Wembanyama's future FTs.\n",
        "\n",
        "Along the way, we learned that models like pymc guranttee that we will nearly always have access to samples of a posterior--so long as we use our tools correctly.\n",
        "\n",
        "To wrap up this unit, let's end with a final task:\n",
        "\n",
        "\n",
        "\n"
      ],
      "metadata": {
        "id": "v5fRiXSVjZ23"
      }
    },
    {
      "cell_type": "markdown",
      "source": [
        "**Task15**:\n",
        "\n",
        "What is Victor Wembanyama's true Free Throw percentage (FT%) in the NBA?"
      ],
      "metadata": {
        "id": "y-i-ZZLLdo3v"
      }
    },
    {
      "cell_type": "markdown",
      "source": [
        "**Answer15**:\n",
        "\n",
        "[*write your answer here*]"
      ],
      "metadata": {
        "id": "Ez1Cku5zcQOa"
      }
    }
  ]
}